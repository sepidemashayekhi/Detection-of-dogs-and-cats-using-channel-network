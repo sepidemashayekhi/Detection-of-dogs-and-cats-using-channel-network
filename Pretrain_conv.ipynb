{
  "nbformat": 4,
  "nbformat_minor": 0,
  "metadata": {
    "colab": {
      "name": "Untitled24.ipynb",
      "provenance": [],
      "collapsed_sections": []
    },
    "kernelspec": {
      "name": "python3",
      "display_name": "Python 3"
    },
    "language_info": {
      "name": "python"
    }
  },
  "cells": [
    {
      "cell_type": "code",
      "execution_count": null,
      "metadata": {
        "id": "3a0A9BIGU_8t"
      },
      "outputs": [],
      "source": [
        "import tensorflow.keras \n",
        "from keras.layers import Conv2D,Dense,MaxPooling2D,Dropout,Input,Flatten\n",
        "from keras.models import Sequential\n",
        "from keras.applications import vgg16"
      ]
    },
    {
      "cell_type": "code",
      "source": [
        "import numpy as np\n",
        "import os \n",
        "from keras.preprocessing.image import  ImageDataGenerator"
      ],
      "metadata": {
        "id": "jehbL1wNbuun"
      },
      "execution_count": null,
      "outputs": []
    },
    {
      "cell_type": "code",
      "source": [
        "conv_base=vgg16.VGG16(weights='imagenet',include_top=False,input_shape=(150,150,3)4)"
      ],
      "metadata": {
        "id": "6vyqedHvVBCx",
        "colab": {
          "base_uri": "https://localhost:8080/"
        },
        "outputId": "7d09a1d3-671f-42c8-9adc-7b37f824ccb8"
      },
      "execution_count": null,
      "outputs": [
        {
          "output_type": "stream",
          "name": "stdout",
          "text": [
            "Downloading data from https://storage.googleapis.com/tensorflow/keras-applications/vgg16/vgg16_weights_tf_dim_ordering_tf_kernels_notop.h5\n",
            "58892288/58889256 [==============================] - 0s 0us/step\n",
            "58900480/58889256 [==============================] - 0s 0us/step\n"
          ]
        }
      ]
    },
    {
      "cell_type": "code",
      "source": [
        "# creat my model\n",
        "base_dir='/base_dir'\n",
        "train_dir=os.path.join(base_dir,'train')\n",
        "validatin_dir=os.path.join(base_dir,'validation')\n",
        "datagen=ImageDataGenerator(rescale=1./255)\n",
        "batch_size=20"
      ],
      "metadata": {
        "id": "_tcmc4PwVLpa"
      },
      "execution_count": 18,
      "outputs": []
    },
    {
      "cell_type": "code",
      "source": [
        "def extract_feature(directory,sample_count):\n",
        "  features=np.zeros(shape=(sample_count,4,4,512))\n",
        "  labels=np.zeros(shape=(sample_count))\n",
        "\n",
        "  generator=datagen.flow_from_directory(directory,target_size=(150,150),batch_size=batch_size,\n",
        "                                        class_mode='binary')\n",
        "  i=0\n",
        "  for input_batch , labels_batch in generator:\n",
        "    if input_batch.shape[0]==3:\n",
        "      continue\n",
        "    \n",
        "    feature_batch=conv_base.predict(input_batch)\n",
        "    features[i* batch_size :(i+1)*batch_size]=feature_batch\n",
        "    labels[i* batch_size :(i+1)*batch_size]=labels_batch\n",
        "\n",
        "    i+=1\n",
        "    if i*batch_size >= sample_count:\n",
        "      break\n",
        "  return features,labels \n"
      ],
      "metadata": {
        "id": "ird9H8o7cMDD"
      },
      "execution_count": 9,
      "outputs": []
    },
    {
      "cell_type": "code",
      "source": [
        "feature_train, label_train=extract_feature(train_dir,2000)"
      ],
      "metadata": {
        "id": "h_AQDst6zHNE",
        "colab": {
          "base_uri": "https://localhost:8080/"
        },
        "outputId": "ea0ee45b-6c1d-4472-ad83-e6ded8298532"
      },
      "execution_count": 16,
      "outputs": [
        {
          "output_type": "stream",
          "name": "stdout",
          "text": [
            "Found 1763 images belonging to 3 classes.\n"
          ]
        }
      ]
    },
    {
      "cell_type": "code",
      "source": [
        "feature_validation,label_validation=extract_feature(validatin_dir,1000)"
      ],
      "metadata": {
        "colab": {
          "base_uri": "https://localhost:8080/"
        },
        "id": "xoJGlC-fVCCy",
        "outputId": "4104450e-e24f-4d9a-9619-f8134656318a"
      },
      "execution_count": 19,
      "outputs": [
        {
          "output_type": "stream",
          "name": "stdout",
          "text": [
            "Found 1000 images belonging to 3 classes.\n"
          ]
        }
      ]
    },
    {
      "cell_type": "code",
      "source": [
        "feature_train=np.reshape(feature_train,(2000,4*4*512))\n",
        "feature_validation=np.reshape(feature_validation,(1000,4*4*512))"
      ],
      "metadata": {
        "id": "xcez4bX_QEVo"
      },
      "execution_count": 20,
      "outputs": []
    },
    {
      "cell_type": "code",
      "source": [
        "# create model\n",
        "from keras.optimizer_v1 import  RMSprop\n",
        "model=Sequential()\n",
        "model.add(Dense(256,activation='relu',input_dim=4*4*512,kernel_initializer='uniform'))\n",
        "model.add(Dense(128,activation='relu'))\n",
        "model.add(Dropout(0.25))\n",
        "model.add(Dense(64,activation='relu'))\n",
        "model.add(Dropout(0.25))\n",
        "model.add(Dense(1,activation='sigmoid'))\n",
        "\n",
        "model.compile(loss='binary_crossentropy',optimizer='RMSprop',metrics=['acc'])"
      ],
      "metadata": {
        "id": "yGGKEwADQHIa"
      },
      "execution_count": 37,
      "outputs": []
    },
    {
      "cell_type": "code",
      "source": [
        "history=model.fit(feature_train,label_train,epochs=30,batch_size=20,validation_data=(feature_validation,label_validation))"
      ],
      "metadata": {
        "colab": {
          "base_uri": "https://localhost:8080/"
        },
        "id": "Nt5R8QHcRAyT",
        "outputId": "23f68c48-d0f4-4cf2-a9f6-3a8530602393"
      },
      "execution_count": 38,
      "outputs": [
        {
          "output_type": "stream",
          "name": "stdout",
          "text": [
            "Epoch 1/30\n",
            "100/100 [==============================] - 5s 37ms/step - loss: -23307.9883 - acc: 0.5630 - val_loss: -101238.7500 - val_acc: 0.5000\n",
            "Epoch 2/30\n",
            "100/100 [==============================] - 4s 35ms/step - loss: -322748.5000 - acc: 0.5665 - val_loss: -800005.1875 - val_acc: 0.5000\n",
            "Epoch 3/30\n",
            "100/100 [==============================] - 3s 35ms/step - loss: -1525271.3750 - acc: 0.5665 - val_loss: -2960982.0000 - val_acc: 0.5000\n",
            "Epoch 4/30\n",
            "100/100 [==============================] - 4s 37ms/step - loss: -4383817.5000 - acc: 0.5665 - val_loss: -7604181.0000 - val_acc: 0.5000\n",
            "Epoch 5/30\n",
            "100/100 [==============================] - 4s 39ms/step - loss: -9969296.0000 - acc: 0.5665 - val_loss: -16253118.0000 - val_acc: 0.5000\n",
            "Epoch 6/30\n",
            "100/100 [==============================] - 4s 41ms/step - loss: -20089066.0000 - acc: 0.5665 - val_loss: -30700958.0000 - val_acc: 0.5000\n",
            "Epoch 7/30\n",
            "100/100 [==============================] - 4s 40ms/step - loss: -36054748.0000 - acc: 0.5665 - val_loss: -52776152.0000 - val_acc: 0.5000\n",
            "Epoch 8/30\n",
            "100/100 [==============================] - 4s 39ms/step - loss: -59929544.0000 - acc: 0.5665 - val_loss: -84994768.0000 - val_acc: 0.5000\n",
            "Epoch 9/30\n",
            "100/100 [==============================] - 4s 38ms/step - loss: -93754208.0000 - acc: 0.5665 - val_loss: -129991456.0000 - val_acc: 0.5000\n",
            "Epoch 10/30\n",
            "100/100 [==============================] - 4s 35ms/step - loss: -138651008.0000 - acc: 0.5665 - val_loss: -190560944.0000 - val_acc: 0.5000\n",
            "Epoch 11/30\n",
            "100/100 [==============================] - 4s 38ms/step - loss: -201592880.0000 - acc: 0.5665 - val_loss: -270158624.0000 - val_acc: 0.5000\n",
            "Epoch 12/30\n",
            "100/100 [==============================] - 4s 39ms/step - loss: -279882464.0000 - acc: 0.5665 - val_loss: -371390656.0000 - val_acc: 0.5000\n",
            "Epoch 13/30\n",
            "100/100 [==============================] - 4s 38ms/step - loss: -380242304.0000 - acc: 0.5665 - val_loss: -498624224.0000 - val_acc: 0.5000\n",
            "Epoch 14/30\n",
            "100/100 [==============================] - 3s 35ms/step - loss: -502711072.0000 - acc: 0.5665 - val_loss: -652705024.0000 - val_acc: 0.5000\n",
            "Epoch 15/30\n",
            "100/100 [==============================] - 4s 43ms/step - loss: -649808000.0000 - acc: 0.5665 - val_loss: -845725248.0000 - val_acc: 0.5000\n",
            "Epoch 16/30\n",
            "100/100 [==============================] - 4s 39ms/step - loss: -840778496.0000 - acc: 0.5665 - val_loss: -1074913792.0000 - val_acc: 0.5000\n",
            "Epoch 17/30\n",
            "100/100 [==============================] - 4s 41ms/step - loss: -1065296128.0000 - acc: 0.5665 - val_loss: -1349588224.0000 - val_acc: 0.5000\n",
            "Epoch 18/30\n",
            "100/100 [==============================] - 4s 41ms/step - loss: -1321511168.0000 - acc: 0.5665 - val_loss: -1672448896.0000 - val_acc: 0.5000\n",
            "Epoch 19/30\n",
            "100/100 [==============================] - 4s 42ms/step - loss: -1619715072.0000 - acc: 0.5665 - val_loss: -2044294400.0000 - val_acc: 0.5000\n",
            "Epoch 20/30\n",
            "100/100 [==============================] - 5s 46ms/step - loss: -1975382144.0000 - acc: 0.5665 - val_loss: -2483575296.0000 - val_acc: 0.5000\n",
            "Epoch 21/30\n",
            "100/100 [==============================] - 4s 43ms/step - loss: -2388988160.0000 - acc: 0.5665 - val_loss: -2977304064.0000 - val_acc: 0.5000\n",
            "Epoch 22/30\n",
            "100/100 [==============================] - 4s 42ms/step - loss: -2864301824.0000 - acc: 0.5665 - val_loss: -3558234880.0000 - val_acc: 0.5000\n",
            "Epoch 23/30\n",
            "100/100 [==============================] - 4s 43ms/step - loss: -3389064960.0000 - acc: 0.5665 - val_loss: -4208329728.0000 - val_acc: 0.5000\n",
            "Epoch 24/30\n",
            "100/100 [==============================] - 4s 40ms/step - loss: -3989264384.0000 - acc: 0.5665 - val_loss: -4950178816.0000 - val_acc: 0.5000\n",
            "Epoch 25/30\n",
            "100/100 [==============================] - 4s 39ms/step - loss: -4664506368.0000 - acc: 0.5665 - val_loss: -5793482752.0000 - val_acc: 0.5000\n",
            "Epoch 26/30\n",
            "100/100 [==============================] - 4s 37ms/step - loss: -5475413504.0000 - acc: 0.5665 - val_loss: -6715927552.0000 - val_acc: 0.5000\n",
            "Epoch 27/30\n",
            "100/100 [==============================] - 4s 36ms/step - loss: -6302356992.0000 - acc: 0.5665 - val_loss: -7764328960.0000 - val_acc: 0.5000\n",
            "Epoch 28/30\n",
            "100/100 [==============================] - 4s 38ms/step - loss: -7295560192.0000 - acc: 0.5665 - val_loss: -8925329408.0000 - val_acc: 0.5000\n",
            "Epoch 29/30\n",
            "100/100 [==============================] - 3s 35ms/step - loss: -8378494464.0000 - acc: 0.5665 - val_loss: -10203331584.0000 - val_acc: 0.5000\n",
            "Epoch 30/30\n",
            "100/100 [==============================] - 4s 36ms/step - loss: -9592678400.0000 - acc: 0.5665 - val_loss: -11638939648.0000 - val_acc: 0.5000\n"
          ]
        }
      ]
    }
  ]
}