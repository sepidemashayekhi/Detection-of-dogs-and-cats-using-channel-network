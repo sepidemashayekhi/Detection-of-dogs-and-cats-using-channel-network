{
 "cells": [
  {
   "cell_type": "code",
   "execution_count": 1,
   "metadata": {},
   "outputs": [],
   "source": [
    "import os , shutil"
   ]
  },
  {
   "cell_type": "code",
   "execution_count": 11,
   "metadata": {},
   "outputs": [],
   "source": [
    "orginal_dataset='G:\\my_project\\Detection-of-dogs-and-cats-using-conv2D-network'\n",
    "base_dir='G:/my_project/Detection-of-dogs-and-cats-using-conv2D-network/base_dir'\n",
    "os.mkdir(base_dir)"
   ]
  },
  {
   "cell_type": "code",
   "execution_count": 12,
   "metadata": {},
   "outputs": [],
   "source": [
    "train_dir=os.path.join(base_dir,'train_dir')\n",
    "os.mkdir(train_dir)\n",
    "validation_dir=os.path.join(base_dir,'validation_dir')\n",
    "os.mkdir(validation_dir)\n",
    "test_dir=os.path.join(base_dir,'test_dir')\n",
    "os.mkdir(test_dir)"
   ]
  },
  {
   "cell_type": "code",
   "execution_count": 13,
   "metadata": {},
   "outputs": [],
   "source": [
    "train_cat_dir=os.path.join(train_dir,'cats')\n",
    "os.mkdir(train_cat_dir)\n",
    "train_dog_dir=os.path.join(train_dir,'train_dog_dir')\n",
    "os.mkdir(train_dog_dir)\n",
    "validation_cat_dir=os.path.join(validation_dir,'validation_cat_dir')\n",
    "os.mkdir(validation_cat_dir)\n",
    "validation_dog_dir=os.path.join(validation_dir,'validation_dog_dir')\n",
    "os.mkdir(validation_dog_dir)\n",
    "test_cat_dir=os.path.join(test_dir,'test_cat_dir')\n",
    "os.mkdir(test_cat_dir)\n",
    "test_dog_dir=os.path.join(test_dir,'test_dog_dir')\n",
    "os.mkdir(test_dog_dir)"
   ]
  },
  {
   "cell_type": "code",
   "execution_count": null,
   "metadata": {},
   "outputs": [],
   "source": []
  },
  {
   "cell_type": "code",
   "execution_count": null,
   "metadata": {},
   "outputs": [],
   "source": []
  }
 ],
 "metadata": {
  "interpreter": {
   "hash": "330deccf8e38a25fb7d84aed1bef8b9922979c4ec18de6b2476cfdcefb0b0f6e"
  },
  "kernelspec": {
   "display_name": "Python 3.9.7 64-bit ('base': conda)",
   "language": "python",
   "name": "python3"
  },
  "language_info": {
   "codemirror_mode": {
    "name": "ipython",
    "version": 3
   },
   "file_extension": ".py",
   "mimetype": "text/x-python",
   "name": "python",
   "nbconvert_exporter": "python",
   "pygments_lexer": "ipython3",
   "version": "3.9.7"
  },
  "orig_nbformat": 4
 },
 "nbformat": 4,
 "nbformat_minor": 2
}
