{
 "cells": [
  {
   "cell_type": "code",
   "execution_count": 1,
   "metadata": {},
   "outputs": [],
   "source": [
    "import os , shutil"
   ]
  },
  {
   "cell_type": "code",
   "execution_count": null,
   "metadata": {},
   "outputs": [],
   "source": [
    "\n",
    "base_dir='G:/my_project/Detection-of-dogs-and-cats-using-conv2D-network/base_dir'\n",
    "os.mkdir(base_dir)"
   ]
  },
  {
   "cell_type": "code",
   "execution_count": 30,
   "metadata": {},
   "outputs": [],
   "source": [
    "catpath='G:/my_project/Detection-of-dogs-and-cats-using-conv2D-network/data_dog_cat/training_set/training_set/cats'\n",
    "dogpath='G:/my_project/Detection-of-dogs-and-cats-using-conv2D-network/data_dog_cat/training_set/training_set/dogs'"
   ]
  },
  {
   "cell_type": "markdown",
   "metadata": {},
   "source": [
    "## Add folder"
   ]
  },
  {
   "cell_type": "code",
   "execution_count": 12,
   "metadata": {},
   "outputs": [],
   "source": [
    "train_dir=os.path.join(base_dir,'train_dir')\n",
    "os.mkdir(train_dir)\n",
    "validation_dir=os.path.join(base_dir,'validation_dir')\n",
    "os.mkdir(validation_dir)\n",
    "test_dir=os.path.join(base_dir,'test_dir')\n",
    "os.mkdir(test_dir)"
   ]
  },
  {
   "cell_type": "code",
   "execution_count": 13,
   "metadata": {},
   "outputs": [],
   "source": [
    "train_cat_dir=os.path.join(train_dir,'cats')\n",
    "os.mkdir(train_cat_dir)\n",
    "train_dog_dir=os.path.join(train_dir,'train_dog_dir')\n",
    "os.mkdir(train_dog_dir)\n",
    "validation_cat_dir=os.path.join(validation_dir,'validation_cat_dir')\n",
    "os.mkdir(validation_cat_dir)\n",
    "validation_dog_dir=os.path.join(validation_dir,'validation_dog_dir')\n",
    "os.mkdir(validation_dog_dir)\n",
    "test_cat_dir=os.path.join(test_dir,'test_cat_dir')\n",
    "os.mkdir(test_cat_dir)\n",
    "test_dog_dir=os.path.join(test_dir,'test_dog_dir')\n",
    "os.mkdir(test_dog_dir)"
   ]
  },
  {
   "cell_type": "code",
   "execution_count": 31,
   "metadata": {},
   "outputs": [],
   "source": [
    "fnames=['cat.{}.jpg'.format(i) for i in range(1,1000)]\n",
    "for fname in fnames:\n",
    "    src=os.path.join(catpath,fname)\n",
    "    dst=os.path.join(train_cat_dir,fname)\n",
    "    shutil.copyfile(src,dst)\n",
    "    "
   ]
  },
  {
   "cell_type": "code",
   "execution_count": 32,
   "metadata": {},
   "outputs": [],
   "source": [
    "fnames=['cat.{}.jpg'.format(i) for i in range(1000,1500)]\n",
    "for fname in fnames:\n",
    "    src=os.path.join(catpath,fname)\n",
    "    dst=os.path.join(validation_cat_dir,fname)\n",
    "    shutil.copyfile(src,dst)"
   ]
  },
  {
   "cell_type": "code",
   "execution_count": 33,
   "metadata": {},
   "outputs": [],
   "source": [
    "fnames=['cat.{}.jpg'.format(i) for i in range(1500,2000)]\n",
    "for fname in fnames:\n",
    "    src=os.path.join(catpath,fname)\n",
    "    dst=os.path.join(test_cat_dir,fname)\n",
    "    shutil.copyfile(src,dst)"
   ]
  },
  {
   "cell_type": "code",
   "execution_count": 34,
   "metadata": {},
   "outputs": [],
   "source": [
    "fnames=['dog.{}.jpg'.format(i) for i in range(1,1000)]\n",
    "for fname in fnames:\n",
    "    src=os.path.join(dogpath,fname)\n",
    "    dst=os.path.join(train_dog_dir,fname)\n",
    "    shutil.copyfile(src,dst)"
   ]
  },
  {
   "cell_type": "code",
   "execution_count": 35,
   "metadata": {},
   "outputs": [],
   "source": [
    "fnames=['dog.{}.jpg'.format(i) for i in range(1000,1500)]\n",
    "for fname in fnames:\n",
    "    src=os.path.join(dogpath,fname)\n",
    "    dst=os.path.join(validation_dog_dir,fname)\n",
    "    shutil.copyfile(src,dst)"
   ]
  },
  {
   "cell_type": "code",
   "execution_count": 36,
   "metadata": {},
   "outputs": [],
   "source": [
    "fnames=['dog.{}.jpg'.format(i) for i in range(1500,2000)]\n",
    "for fname in fnames:\n",
    "    src=os.path.join(dogpath,fname)\n",
    "    dst=os.path.join(test_dog_dir,fname)\n",
    "    shutil.copyfile(src,dst)"
   ]
  },
  {
   "cell_type": "code",
   "execution_count": null,
   "metadata": {},
   "outputs": [],
   "source": []
  }
 ],
 "metadata": {
  "interpreter": {
   "hash": "330deccf8e38a25fb7d84aed1bef8b9922979c4ec18de6b2476cfdcefb0b0f6e"
  },
  "kernelspec": {
   "display_name": "Python 3.9.7 64-bit ('base': conda)",
   "language": "python",
   "name": "python3"
  },
  "language_info": {
   "codemirror_mode": {
    "name": "ipython",
    "version": 3
   },
   "file_extension": ".py",
   "mimetype": "text/x-python",
   "name": "python",
   "nbconvert_exporter": "python",
   "pygments_lexer": "ipython3",
   "version": "3.9.7"
  },
  "orig_nbformat": 4
 },
 "nbformat": 4,
 "nbformat_minor": 2
}
