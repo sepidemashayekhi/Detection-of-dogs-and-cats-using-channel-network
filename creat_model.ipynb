{
 "cells": [
  {
   "cell_type": "code",
   "execution_count": 3,
   "metadata": {},
   "outputs": [],
   "source": [
    "import tensorflow.keras"
   ]
  },
  {
   "cell_type": "code",
   "execution_count": 5,
   "metadata": {},
   "outputs": [],
   "source": [
    "from keras.models import Sequential\n",
    "from keras.layers import Conv2D,MaxPooling2D,Dense,Flatten"
   ]
  },
  {
   "cell_type": "markdown",
   "metadata": {},
   "source": [
    "## Creat model"
   ]
  },
  {
   "cell_type": "code",
   "execution_count": 6,
   "metadata": {},
   "outputs": [],
   "source": [
    "# creat models\n",
    "model=Sequential()\n",
    "model.add(Conv2D(32,(3,3),activation='relu',input_shape=(150,150,3)))\n",
    "model.add(MaxPooling2D((2,2)))\n",
    "model.add(Conv2D(64,(3,3),activation='relu'))\n",
    "model.add(MaxPooling2D((2,2)))\n",
    "model.add(Conv2D(128,(3,3),activation='relu'))\n",
    "model.add(MaxPooling2D((2,2)))\n",
    "model.add(Conv2D(128,(3,3),activation='relu'))\n",
    "model.add(MaxPooling2D((2,2)))\n",
    "model.add(Flatten())\n",
    "model.add(Dense(512,activation='relu'))\n",
    "model.add(Dense(1,activation='sigmoid'))"
   ]
  },
  {
   "cell_type": "code",
   "execution_count": 16,
   "metadata": {},
   "outputs": [],
   "source": [
    "model.compile(loss='binary_crossentropy',optimizer='adam',metrics=['acc'])"
   ]
  },
  {
   "cell_type": "markdown",
   "metadata": {},
   "source": [
    "## preprocessing image "
   ]
  },
  {
   "cell_type": "code",
   "execution_count": 47,
   "metadata": {},
   "outputs": [
    {
     "name": "stdout",
     "output_type": "stream",
     "text": [
      "Found 1998 images belonging to 2 classes.\n",
      "Found 1000 images belonging to 2 classes.\n"
     ]
    }
   ],
   "source": [
    "from keras.preprocessing.image import ImageDataGenerator\n",
    "train_datagen=ImageDataGenerator(rescale=1./255)\n",
    "validation_datagen=ImageDataGenerator(rescale=1./255)\n",
    "train_geneator=train_datagen.flow_from_directory(directory=\"base_dir/train_dir/\",target_size=(150,150),batch_size=20,class_mode='binary')\n",
    "validation_geneator=validation_datagen.flow_from_directory(directory=\"base_dir/validation_dir/\",target_size=(150,150),batch_size=20,class_mode='binary')"
   ]
  },
  {
   "cell_type": "markdown",
   "metadata": {},
   "source": [
    "## fit_model"
   ]
  },
  {
   "cell_type": "code",
   "execution_count": 53,
   "metadata": {},
   "outputs": [
    {
     "name": "stderr",
     "output_type": "stream",
     "text": [
      "C:\\Users\\MASHAY~1\\AppData\\Local\\Temp/ipykernel_6196/4264568504.py:1: UserWarning: `Model.fit_generator` is deprecated and will be removed in a future version. Please use `Model.fit`, which supports generators.\n",
      "  h=model.fit_generator(train_geneator,steps_per_epoch=100,epochs=30,validation_data=validation_geneator,validation_steps=50)\n"
     ]
    },
    {
     "name": "stdout",
     "output_type": "stream",
     "text": [
      "Epoch 1/30\n",
      "100/100 [==============================] - 170s 2s/step - loss: 0.6921 - acc: 0.5340 - val_loss: 0.6851 - val_acc: 0.5600\n",
      "Epoch 2/30\n",
      "100/100 [==============================] - 169s 2s/step - loss: 0.6834 - acc: 0.5430 - val_loss: 0.6529 - val_acc: 0.6290\n",
      "Epoch 3/30\n",
      "100/100 [==============================] - 168s 2s/step - loss: 0.6509 - acc: 0.6206 - val_loss: 0.6213 - val_acc: 0.6460\n",
      "Epoch 4/30\n",
      "100/100 [==============================] - 171s 2s/step - loss: 0.6130 - acc: 0.6632 - val_loss: 0.6106 - val_acc: 0.6590\n",
      "Epoch 5/30\n",
      "100/100 [==============================] - 169s 2s/step - loss: 0.5370 - acc: 0.7377 - val_loss: 0.6122 - val_acc: 0.6650\n",
      "Epoch 6/30\n",
      "100/100 [==============================] - 169s 2s/step - loss: 0.4618 - acc: 0.7713 - val_loss: 0.7115 - val_acc: 0.7060\n",
      "Epoch 7/30\n",
      "100/100 [==============================] - 169s 2s/step - loss: 0.4053 - acc: 0.8108 - val_loss: 0.6084 - val_acc: 0.7070\n",
      "Epoch 8/30\n",
      "100/100 [==============================] - 170s 2s/step - loss: 0.3003 - acc: 0.8634 - val_loss: 0.6968 - val_acc: 0.7050\n",
      "Epoch 9/30\n",
      "100/100 [==============================] - 169s 2s/step - loss: 0.2272 - acc: 0.9034 - val_loss: 0.8702 - val_acc: 0.6890\n",
      "Epoch 10/30\n",
      "100/100 [==============================] - 164s 2s/step - loss: 0.1530 - acc: 0.9414 - val_loss: 0.8903 - val_acc: 0.6980\n",
      "Epoch 11/30\n",
      "100/100 [==============================] - 158s 2s/step - loss: 0.0801 - acc: 0.9750 - val_loss: 1.3479 - val_acc: 0.7140\n",
      "Epoch 12/30\n",
      "100/100 [==============================] - 158s 2s/step - loss: 0.0937 - acc: 0.9645 - val_loss: 1.2168 - val_acc: 0.7210\n",
      "Epoch 13/30\n",
      "100/100 [==============================] - 177s 2s/step - loss: 0.0311 - acc: 0.9930 - val_loss: 1.9189 - val_acc: 0.6890\n",
      "Epoch 14/30\n",
      "100/100 [==============================] - 157s 2s/step - loss: 0.0760 - acc: 0.9730 - val_loss: 1.6256 - val_acc: 0.6970\n",
      "Epoch 15/30\n",
      "100/100 [==============================] - 159s 2s/step - loss: 0.0751 - acc: 0.9730 - val_loss: 1.4373 - val_acc: 0.7060\n",
      "Epoch 16/30\n",
      "100/100 [==============================] - 158s 2s/step - loss: 0.0284 - acc: 0.9895 - val_loss: 1.5948 - val_acc: 0.7200\n",
      "Epoch 17/30\n",
      "100/100 [==============================] - 155s 2s/step - loss: 0.0062 - acc: 0.9995 - val_loss: 1.8599 - val_acc: 0.7190\n",
      "Epoch 18/30\n",
      "100/100 [==============================] - 157s 2s/step - loss: 8.5681e-04 - acc: 1.0000 - val_loss: 1.9653 - val_acc: 0.7220\n",
      "Epoch 19/30\n",
      "100/100 [==============================] - 159s 2s/step - loss: 3.9024e-04 - acc: 1.0000 - val_loss: 2.0396 - val_acc: 0.7220\n",
      "Epoch 20/30\n",
      "100/100 [==============================] - 159s 2s/step - loss: 2.5759e-04 - acc: 1.0000 - val_loss: 2.1139 - val_acc: 0.7300\n",
      "Epoch 21/30\n",
      "100/100 [==============================] - 160s 2s/step - loss: 1.7833e-04 - acc: 1.0000 - val_loss: 2.2238 - val_acc: 0.7310\n",
      "Epoch 22/30\n",
      "100/100 [==============================] - 159s 2s/step - loss: 1.2305e-04 - acc: 1.0000 - val_loss: 2.3587 - val_acc: 0.7260\n",
      "Epoch 23/30\n",
      "100/100 [==============================] - 160s 2s/step - loss: 8.6310e-05 - acc: 1.0000 - val_loss: 2.5024 - val_acc: 0.7370\n",
      "Epoch 24/30\n",
      "100/100 [==============================] - 160s 2s/step - loss: 6.9147e-05 - acc: 1.0000 - val_loss: 2.5279 - val_acc: 0.7380\n",
      "Epoch 25/30\n",
      "100/100 [==============================] - 161s 2s/step - loss: 5.0835e-05 - acc: 1.0000 - val_loss: 2.6550 - val_acc: 0.7360\n",
      "Epoch 26/30\n",
      "100/100 [==============================] - 160s 2s/step - loss: 4.0380e-05 - acc: 1.0000 - val_loss: 2.6666 - val_acc: 0.7380\n",
      "Epoch 27/30\n",
      "100/100 [==============================] - 161s 2s/step - loss: 3.3151e-05 - acc: 1.0000 - val_loss: 2.7547 - val_acc: 0.7320\n",
      "Epoch 28/30\n",
      "100/100 [==============================] - 160s 2s/step - loss: 2.8177e-05 - acc: 1.0000 - val_loss: 2.7845 - val_acc: 0.7340\n",
      "Epoch 29/30\n",
      "100/100 [==============================] - 159s 2s/step - loss: 2.4110e-05 - acc: 1.0000 - val_loss: 2.8267 - val_acc: 0.7350\n",
      "Epoch 30/30\n",
      "100/100 [==============================] - 159s 2s/step - loss: 2.1441e-05 - acc: 1.0000 - val_loss: 2.8421 - val_acc: 0.7330\n"
     ]
    }
   ],
   "source": [
    "h=model.fit_generator(train_geneator,steps_per_epoch=100,epochs=30,validation_data=validation_geneator,validation_steps=50)"
   ]
  },
  {
   "cell_type": "code",
   "execution_count": null,
   "metadata": {},
   "outputs": [],
   "source": []
  }
 ],
 "metadata": {
  "interpreter": {
   "hash": "330deccf8e38a25fb7d84aed1bef8b9922979c4ec18de6b2476cfdcefb0b0f6e"
  },
  "kernelspec": {
   "display_name": "Python 3.9.7 64-bit ('base': conda)",
   "language": "python",
   "name": "python3"
  },
  "language_info": {
   "codemirror_mode": {
    "name": "ipython",
    "version": 3
   },
   "file_extension": ".py",
   "mimetype": "text/x-python",
   "name": "python",
   "nbconvert_exporter": "python",
   "pygments_lexer": "ipython3",
   "version": "3.9.7"
  },
  "orig_nbformat": 4
 },
 "nbformat": 4,
 "nbformat_minor": 2
}
